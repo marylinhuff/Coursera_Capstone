{
 "cells": [
  {
   "cell_type": "markdown",
   "metadata": {},
   "source": [
    "# Comparing similar suburbs in the vicinity Philadelphia, PA"
   ]
  },
  {
   "cell_type": "markdown",
   "metadata": {},
   "source": [
    "## Introduction\n",
    "\n",
    "### When I moved to the town I now live in, our selection criteria was good schools. Over time, I have grown to love the quaint shops and independent restuarants. Now that the kids are grown and we are downsizing, I'd like to find a similar neighborhood with these amenities and low property taxes since I no longer care about the quality of the schools."
   ]
  },
  {
   "cell_type": "markdown",
   "metadata": {},
   "source": [
    "## Data\n",
    "\n",
    "### To accomplish this I will need to gather data on neighborhoods around Philadelphia, property tax data, and venue information. The data will need to be joined by zipcode and/or municipality."
   ]
  },
  {
   "cell_type": "code",
   "execution_count": 1,
   "metadata": {},
   "outputs": [
    {
     "name": "stdout",
     "output_type": "stream",
     "text": [
      "Libraries imported.\n"
     ]
    }
   ],
   "source": [
    "import numpy as np # library to handle data in a vectorized manner\n",
    "\n",
    "import pandas as pd # library for data analsysis\n",
    "pd.set_option('display.max_columns', None)\n",
    "pd.set_option('display.max_rows', None)\n",
    "\n",
    "import json # library to handle JSON files\n",
    "\n",
    "#!conda install -c conda-forge geopy --yes # uncomment this line if you haven't completed the Foursquare API lab\n",
    "from geopy.geocoders import Nominatim # convert an address into latitude and longitude values\n",
    "\n",
    "import requests # library to handle requests\n",
    "from pandas.io.json import json_normalize # tranform JSON file into a pandas dataframe\n",
    "\n",
    "# Matplotlib and associated plotting modules\n",
    "import matplotlib.cm as cm\n",
    "import matplotlib.colors as colors\n",
    "\n",
    "# import k-means from clustering stage\n",
    "from sklearn.cluster import KMeans\n",
    "\n",
    "#!conda install -c conda-forge folium=0.5.0 --yes # uncomment this line if you haven't completed the Foursquare API lab\n",
    "import folium # map rendering library\n",
    "\n",
    "print('Libraries imported.')"
   ]
  },
  {
   "cell_type": "markdown",
   "metadata": {},
   "source": [
    "### 1. Download Neighborhood and zipcode data for the Philadelphia metro area\n",
    "\n",
    "#### This data can be found on this website: https://namecensus.com/igapo/zip_codes/metropolitan-areas/metro-alpha/Philadelphia%20(PA-NJ)1.html\n",
    "#### This data includes the zipcode and minicipality, telephone area code, county, state, and some extraneous information that I will not need."
   ]
  },
  {
   "cell_type": "code",
   "execution_count": 2,
   "metadata": {},
   "outputs": [
    {
     "data": {
      "text/html": [
       "<div>\n",
       "<style scoped>\n",
       "    .dataframe tbody tr th:only-of-type {\n",
       "        vertical-align: middle;\n",
       "    }\n",
       "\n",
       "    .dataframe tbody tr th {\n",
       "        vertical-align: top;\n",
       "    }\n",
       "\n",
       "    .dataframe thead th {\n",
       "        text-align: right;\n",
       "    }\n",
       "</style>\n",
       "<table border=\"1\" class=\"dataframe\">\n",
       "  <thead>\n",
       "    <tr style=\"text-align: right;\">\n",
       "      <th></th>\n",
       "      <th>0</th>\n",
       "      <th>1</th>\n",
       "      <th>2</th>\n",
       "      <th>3</th>\n",
       "      <th>4</th>\n",
       "      <th>5</th>\n",
       "    </tr>\n",
       "  </thead>\n",
       "  <tbody>\n",
       "    <tr>\n",
       "      <th>0</th>\n",
       "      <td>08001 Alloway</td>\n",
       "      <td>856</td>\n",
       "      <td>Salem County</td>\n",
       "      <td>New Jersey - NJ</td>\n",
       "      <td>Philadelphia, PA-NJ (6160)</td>\n",
       "      <td>SMSA</td>\n",
       "    </tr>\n",
       "    <tr>\n",
       "      <th>1</th>\n",
       "      <td>08001 Paradise Lakes</td>\n",
       "      <td>856</td>\n",
       "      <td>Salem County</td>\n",
       "      <td>New Jersey - NJ</td>\n",
       "      <td>Philadelphia, PA-NJ (6160)</td>\n",
       "      <td>SMSA</td>\n",
       "    </tr>\n",
       "    <tr>\n",
       "      <th>2</th>\n",
       "      <td>08002 Cherry Hill</td>\n",
       "      <td>856</td>\n",
       "      <td>Camden County</td>\n",
       "      <td>New Jersey - NJ</td>\n",
       "      <td>Philadelphia, PA-NJ (6160)</td>\n",
       "      <td>SMSA</td>\n",
       "    </tr>\n",
       "    <tr>\n",
       "      <th>3</th>\n",
       "      <td>08002 Cherry Hill Township</td>\n",
       "      <td>856</td>\n",
       "      <td>Camden County</td>\n",
       "      <td>New Jersey - NJ</td>\n",
       "      <td>Philadelphia, PA-NJ (6160)</td>\n",
       "      <td>SMSA</td>\n",
       "    </tr>\n",
       "    <tr>\n",
       "      <th>4</th>\n",
       "      <td>08002 Ellisburg</td>\n",
       "      <td>856</td>\n",
       "      <td>Camden County</td>\n",
       "      <td>New Jersey - NJ</td>\n",
       "      <td>Philadelphia, PA-NJ (6160)</td>\n",
       "      <td>SMSA</td>\n",
       "    </tr>\n",
       "  </tbody>\n",
       "</table>\n",
       "</div>"
      ],
      "text/plain": [
       "                            0    1              2                3  \\\n",
       "0               08001 Alloway  856   Salem County  New Jersey - NJ   \n",
       "1        08001 Paradise Lakes  856   Salem County  New Jersey - NJ   \n",
       "2           08002 Cherry Hill  856  Camden County  New Jersey - NJ   \n",
       "3  08002 Cherry Hill Township  856  Camden County  New Jersey - NJ   \n",
       "4             08002 Ellisburg  856  Camden County  New Jersey - NJ   \n",
       "\n",
       "                            4     5  \n",
       "0  Philadelphia, PA-NJ (6160)  SMSA  \n",
       "1  Philadelphia, PA-NJ (6160)  SMSA  \n",
       "2  Philadelphia, PA-NJ (6160)  SMSA  \n",
       "3  Philadelphia, PA-NJ (6160)  SMSA  \n",
       "4  Philadelphia, PA-NJ (6160)  SMSA  "
      ]
     },
     "execution_count": 2,
     "metadata": {},
     "output_type": "execute_result"
    }
   ],
   "source": [
    "base_site = 'https://namecensus.com/igapo/zip_codes/metropolitan-areas/metro-zip/Philadelphia%20(PA-NJ)1.html'\n",
    "\n",
    "r = requests.get(base_site)\n",
    "r.status_code\n",
    "\n",
    "DF_list = pd.read_html(r.text)\n",
    "\n",
    "Philly_DF=DF_list[0]\n",
    "Philly_DF.head()"
   ]
  },
  {
   "cell_type": "markdown",
   "metadata": {},
   "source": [
    "#### Retain only Delaware County and Montgomery Counties in PA"
   ]
  },
  {
   "cell_type": "code",
   "execution_count": 3,
   "metadata": {},
   "outputs": [
    {
     "data": {
      "text/html": [
       "<div>\n",
       "<style scoped>\n",
       "    .dataframe tbody tr th:only-of-type {\n",
       "        vertical-align: middle;\n",
       "    }\n",
       "\n",
       "    .dataframe tbody tr th {\n",
       "        vertical-align: top;\n",
       "    }\n",
       "\n",
       "    .dataframe thead th {\n",
       "        text-align: right;\n",
       "    }\n",
       "</style>\n",
       "<table border=\"1\" class=\"dataframe\">\n",
       "  <thead>\n",
       "    <tr style=\"text-align: right;\">\n",
       "      <th></th>\n",
       "      <th>0</th>\n",
       "      <th>1</th>\n",
       "      <th>2</th>\n",
       "      <th>3</th>\n",
       "      <th>4</th>\n",
       "      <th>5</th>\n",
       "    </tr>\n",
       "  </thead>\n",
       "  <tbody>\n",
       "    <tr>\n",
       "      <th>389</th>\n",
       "      <td>19008 Broomall</td>\n",
       "      <td>610/484</td>\n",
       "      <td>Delaware County</td>\n",
       "      <td>Pennsylvania - PA</td>\n",
       "      <td>Philadelphia, PA-NJ (6160)</td>\n",
       "      <td>SMSA</td>\n",
       "    </tr>\n",
       "    <tr>\n",
       "      <th>390</th>\n",
       "      <td>19008 Lawrence Park</td>\n",
       "      <td>610/484</td>\n",
       "      <td>Delaware County</td>\n",
       "      <td>Pennsylvania - PA</td>\n",
       "      <td>Philadelphia, PA-NJ (6160)</td>\n",
       "      <td>SMSA</td>\n",
       "    </tr>\n",
       "    <tr>\n",
       "      <th>391</th>\n",
       "      <td>19008 Marple Township</td>\n",
       "      <td>610/484</td>\n",
       "      <td>Delaware County</td>\n",
       "      <td>Pennsylvania - PA</td>\n",
       "      <td>Philadelphia, PA-NJ (6160)</td>\n",
       "      <td>SMSA</td>\n",
       "    </tr>\n",
       "    <tr>\n",
       "      <th>392</th>\n",
       "      <td>19008 Radnor</td>\n",
       "      <td>610/484</td>\n",
       "      <td>Delaware County</td>\n",
       "      <td>Pennsylvania - PA</td>\n",
       "      <td>Philadelphia, PA-NJ (6160)</td>\n",
       "      <td>SMSA</td>\n",
       "    </tr>\n",
       "    <tr>\n",
       "      <th>394</th>\n",
       "      <td>19010 Bryn Mawr</td>\n",
       "      <td>610/484</td>\n",
       "      <td>Delaware County</td>\n",
       "      <td>Pennsylvania - PA</td>\n",
       "      <td>Philadelphia, PA-NJ (6160)</td>\n",
       "      <td>SMSA</td>\n",
       "    </tr>\n",
       "  </tbody>\n",
       "</table>\n",
       "</div>"
      ],
      "text/plain": [
       "                         0        1                2                  3  \\\n",
       "389         19008 Broomall  610/484  Delaware County  Pennsylvania - PA   \n",
       "390    19008 Lawrence Park  610/484  Delaware County  Pennsylvania - PA   \n",
       "391  19008 Marple Township  610/484  Delaware County  Pennsylvania - PA   \n",
       "392           19008 Radnor  610/484  Delaware County  Pennsylvania - PA   \n",
       "394        19010 Bryn Mawr  610/484  Delaware County  Pennsylvania - PA   \n",
       "\n",
       "                              4     5  \n",
       "389  Philadelphia, PA-NJ (6160)  SMSA  \n",
       "390  Philadelphia, PA-NJ (6160)  SMSA  \n",
       "391  Philadelphia, PA-NJ (6160)  SMSA  \n",
       "392  Philadelphia, PA-NJ (6160)  SMSA  \n",
       "394  Philadelphia, PA-NJ (6160)  SMSA  "
      ]
     },
     "execution_count": 3,
     "metadata": {},
     "output_type": "execute_result"
    }
   ],
   "source": [
    "PA_DF = Philly_DF[Philly_DF[3].str.contains('PA')]\n",
    "DelCo_DF=PA_DF[PA_DF[2].str.contains('Delaware')]\n",
    "MontCo_DF=PA_DF[PA_DF[2].str.contains('Montgomery')]\n",
    "DelCoMontCo_DF=pd.concat([DelCo_DF, MontCo_DF], axis=0)\n",
    "DelCoMontCo_DF.head()"
   ]
  },
  {
   "cell_type": "markdown",
   "metadata": {},
   "source": [
    "#### Drop Columns 1, 2, 3, 4, and 5 since they are not useful"
   ]
  },
  {
   "cell_type": "code",
   "execution_count": 4,
   "metadata": {},
   "outputs": [
    {
     "data": {
      "text/html": [
       "<div>\n",
       "<style scoped>\n",
       "    .dataframe tbody tr th:only-of-type {\n",
       "        vertical-align: middle;\n",
       "    }\n",
       "\n",
       "    .dataframe tbody tr th {\n",
       "        vertical-align: top;\n",
       "    }\n",
       "\n",
       "    .dataframe thead th {\n",
       "        text-align: right;\n",
       "    }\n",
       "</style>\n",
       "<table border=\"1\" class=\"dataframe\">\n",
       "  <thead>\n",
       "    <tr style=\"text-align: right;\">\n",
       "      <th></th>\n",
       "      <th>0</th>\n",
       "    </tr>\n",
       "  </thead>\n",
       "  <tbody>\n",
       "    <tr>\n",
       "      <th>389</th>\n",
       "      <td>19008 Broomall</td>\n",
       "    </tr>\n",
       "    <tr>\n",
       "      <th>390</th>\n",
       "      <td>19008 Lawrence Park</td>\n",
       "    </tr>\n",
       "    <tr>\n",
       "      <th>391</th>\n",
       "      <td>19008 Marple Township</td>\n",
       "    </tr>\n",
       "    <tr>\n",
       "      <th>392</th>\n",
       "      <td>19008 Radnor</td>\n",
       "    </tr>\n",
       "    <tr>\n",
       "      <th>394</th>\n",
       "      <td>19010 Bryn Mawr</td>\n",
       "    </tr>\n",
       "  </tbody>\n",
       "</table>\n",
       "</div>"
      ],
      "text/plain": [
       "                         0\n",
       "389         19008 Broomall\n",
       "390    19008 Lawrence Park\n",
       "391  19008 Marple Township\n",
       "392           19008 Radnor\n",
       "394        19010 Bryn Mawr"
      ]
     },
     "execution_count": 4,
     "metadata": {},
     "output_type": "execute_result"
    }
   ],
   "source": [
    "DelCoMontCo_DF.drop([1,2,3,4,5], axis=1,inplace=True)\n",
    "DelCoMontCo_DF.head()"
   ]
  },
  {
   "cell_type": "markdown",
   "metadata": {},
   "source": [
    "#### Rename Columns"
   ]
  },
  {
   "cell_type": "code",
   "execution_count": 5,
   "metadata": {},
   "outputs": [
    {
     "data": {
      "text/html": [
       "<div>\n",
       "<style scoped>\n",
       "    .dataframe tbody tr th:only-of-type {\n",
       "        vertical-align: middle;\n",
       "    }\n",
       "\n",
       "    .dataframe tbody tr th {\n",
       "        vertical-align: top;\n",
       "    }\n",
       "\n",
       "    .dataframe thead th {\n",
       "        text-align: right;\n",
       "    }\n",
       "</style>\n",
       "<table border=\"1\" class=\"dataframe\">\n",
       "  <thead>\n",
       "    <tr style=\"text-align: right;\">\n",
       "      <th></th>\n",
       "      <th>Zip_Muni</th>\n",
       "    </tr>\n",
       "  </thead>\n",
       "  <tbody>\n",
       "    <tr>\n",
       "      <th>389</th>\n",
       "      <td>19008 Broomall</td>\n",
       "    </tr>\n",
       "    <tr>\n",
       "      <th>390</th>\n",
       "      <td>19008 Lawrence Park</td>\n",
       "    </tr>\n",
       "    <tr>\n",
       "      <th>391</th>\n",
       "      <td>19008 Marple Township</td>\n",
       "    </tr>\n",
       "    <tr>\n",
       "      <th>392</th>\n",
       "      <td>19008 Radnor</td>\n",
       "    </tr>\n",
       "    <tr>\n",
       "      <th>394</th>\n",
       "      <td>19010 Bryn Mawr</td>\n",
       "    </tr>\n",
       "  </tbody>\n",
       "</table>\n",
       "</div>"
      ],
      "text/plain": [
       "                  Zip_Muni\n",
       "389         19008 Broomall\n",
       "390    19008 Lawrence Park\n",
       "391  19008 Marple Township\n",
       "392           19008 Radnor\n",
       "394        19010 Bryn Mawr"
      ]
     },
     "execution_count": 5,
     "metadata": {},
     "output_type": "execute_result"
    }
   ],
   "source": [
    "DelCoMontCo_DF.columns = ['Zip_Muni']\n",
    "DelCoMontCo_DF.head()"
   ]
  },
  {
   "cell_type": "markdown",
   "metadata": {},
   "source": [
    "#### Split 'Zip_Muni' into 'Zip' and 'MUNICIPALITY'"
   ]
  },
  {
   "cell_type": "code",
   "execution_count": 6,
   "metadata": {},
   "outputs": [
    {
     "data": {
      "text/html": [
       "<div>\n",
       "<style scoped>\n",
       "    .dataframe tbody tr th:only-of-type {\n",
       "        vertical-align: middle;\n",
       "    }\n",
       "\n",
       "    .dataframe tbody tr th {\n",
       "        vertical-align: top;\n",
       "    }\n",
       "\n",
       "    .dataframe thead th {\n",
       "        text-align: right;\n",
       "    }\n",
       "</style>\n",
       "<table border=\"1\" class=\"dataframe\">\n",
       "  <thead>\n",
       "    <tr style=\"text-align: right;\">\n",
       "      <th></th>\n",
       "      <th>Zip</th>\n",
       "      <th>MUNICIPALITY</th>\n",
       "    </tr>\n",
       "  </thead>\n",
       "  <tbody>\n",
       "    <tr>\n",
       "      <th>0</th>\n",
       "      <td>19008</td>\n",
       "      <td>BROOMALL</td>\n",
       "    </tr>\n",
       "    <tr>\n",
       "      <th>1</th>\n",
       "      <td>19008</td>\n",
       "      <td>LAWRENCE PARK</td>\n",
       "    </tr>\n",
       "    <tr>\n",
       "      <th>2</th>\n",
       "      <td>19008</td>\n",
       "      <td>MARPLE TOWNSHIP</td>\n",
       "    </tr>\n",
       "    <tr>\n",
       "      <th>3</th>\n",
       "      <td>19008</td>\n",
       "      <td>RADNOR</td>\n",
       "    </tr>\n",
       "    <tr>\n",
       "      <th>4</th>\n",
       "      <td>19010</td>\n",
       "      <td>BRYN MAWR</td>\n",
       "    </tr>\n",
       "  </tbody>\n",
       "</table>\n",
       "</div>"
      ],
      "text/plain": [
       "     Zip     MUNICIPALITY\n",
       "0  19008         BROOMALL\n",
       "1  19008    LAWRENCE PARK\n",
       "2  19008  MARPLE TOWNSHIP\n",
       "3  19008           RADNOR\n",
       "4  19010        BRYN MAWR"
      ]
     },
     "execution_count": 6,
     "metadata": {},
     "output_type": "execute_result"
    }
   ],
   "source": [
    "DelCoMontCo_DF=pd.DataFrame(DelCoMontCo_DF.Zip_Muni.str.split(' ',1).tolist(), columns = ['Zip','MUNICIPALITY'])\n",
    "DelCoMontCo_DF['MUNICIPALITY'] = DelCoMontCo_DF['MUNICIPALITY'].str.upper() \n",
    "DelCoMontCo_DF.head()"
   ]
  },
  {
   "cell_type": "markdown",
   "metadata": {},
   "source": [
    "### 2. Download Property tax information for Delaware County, PA\n",
    "\n",
    "#### This data can be found on this website: https://www.delcopa.gov/treasurer/propertytaxes.html as a PDF. I exported the PDF to Excel, trimmed out extranous information, and renamed teh columns."
   ]
  },
  {
   "cell_type": "code",
   "execution_count": 7,
   "metadata": {},
   "outputs": [
    {
     "data": {
      "text/html": [
       "<div>\n",
       "<style scoped>\n",
       "    .dataframe tbody tr th:only-of-type {\n",
       "        vertical-align: middle;\n",
       "    }\n",
       "\n",
       "    .dataframe tbody tr th {\n",
       "        vertical-align: top;\n",
       "    }\n",
       "\n",
       "    .dataframe thead th {\n",
       "        text-align: right;\n",
       "    }\n",
       "</style>\n",
       "<table border=\"1\" class=\"dataframe\">\n",
       "  <thead>\n",
       "    <tr style=\"text-align: right;\">\n",
       "      <th></th>\n",
       "      <th>TotalTaxRate</th>\n",
       "    </tr>\n",
       "    <tr>\n",
       "      <th>MUNICIPALITY</th>\n",
       "      <th></th>\n",
       "    </tr>\n",
       "  </thead>\n",
       "  <tbody>\n",
       "    <tr>\n",
       "      <th>ALDAN</th>\n",
       "      <td>60.5610</td>\n",
       "    </tr>\n",
       "    <tr>\n",
       "      <th>ASTON</th>\n",
       "      <td>40.8413</td>\n",
       "    </tr>\n",
       "    <tr>\n",
       "      <th>BETHEL</th>\n",
       "      <td>40.7660</td>\n",
       "    </tr>\n",
       "    <tr>\n",
       "      <th>CHADDS FORD</th>\n",
       "      <td>32.0530</td>\n",
       "    </tr>\n",
       "    <tr>\n",
       "      <th>BROOKHAVEN</th>\n",
       "      <td>39.9913</td>\n",
       "    </tr>\n",
       "  </tbody>\n",
       "</table>\n",
       "</div>"
      ],
      "text/plain": [
       "              TotalTaxRate\n",
       "MUNICIPALITY              \n",
       "ALDAN              60.5610\n",
       "ASTON              40.8413\n",
       "BETHEL             40.7660\n",
       "CHADDS FORD        32.0530\n",
       "BROOKHAVEN         39.9913"
      ]
     },
     "execution_count": 7,
     "metadata": {},
     "output_type": "execute_result"
    }
   ],
   "source": [
    "DelCoTax_DF=pd.read_excel('TaxRateDelCo.xlsx', index_col=0) \n",
    "DelCoTax_DF.head()"
   ]
  },
  {
   "cell_type": "markdown",
   "metadata": {},
   "source": [
    "### 3. Download Property tax information for Montgomery County, PA\n",
    "\n",
    "#### This data can be found on this website: https://www.montcopa.org/622/County-Municipality-Millage-Rates"
   ]
  },
  {
   "cell_type": "code",
   "execution_count": 8,
   "metadata": {},
   "outputs": [
    {
     "data": {
      "text/html": [
       "<div>\n",
       "<style scoped>\n",
       "    .dataframe tbody tr th:only-of-type {\n",
       "        vertical-align: middle;\n",
       "    }\n",
       "\n",
       "    .dataframe tbody tr th {\n",
       "        vertical-align: top;\n",
       "    }\n",
       "\n",
       "    .dataframe thead th {\n",
       "        text-align: right;\n",
       "    }\n",
       "</style>\n",
       "<table border=\"1\" class=\"dataframe\">\n",
       "  <thead>\n",
       "    <tr style=\"text-align: right;\">\n",
       "      <th></th>\n",
       "      <th>Code</th>\n",
       "      <th>Municipality</th>\n",
       "      <th>Municipality Bill Date</th>\n",
       "      <th>School Bill Date</th>\n",
       "      <th>2020  County Millage</th>\n",
       "      <th>2020  MCCC  Millage</th>\n",
       "      <th>2020  Municipality Millage</th>\n",
       "      <th>2019-2020  School Millage</th>\n",
       "      <th>Total Millage</th>\n",
       "    </tr>\n",
       "  </thead>\n",
       "  <tbody>\n",
       "    <tr>\n",
       "      <th>1</th>\n",
       "      <td>01</td>\n",
       "      <td>Ambler</td>\n",
       "      <td>02/28/20</td>\n",
       "      <td>07/01/19</td>\n",
       "      <td>3.459</td>\n",
       "      <td>0.39</td>\n",
       "      <td>7.86</td>\n",
       "      <td>20.59</td>\n",
       "      <td>32.299</td>\n",
       "    </tr>\n",
       "    <tr>\n",
       "      <th>2</th>\n",
       "      <td>02</td>\n",
       "      <td>Bridgeport</td>\n",
       "      <td>02/28/20</td>\n",
       "      <td>07/01/19</td>\n",
       "      <td>3.459</td>\n",
       "      <td>0.39</td>\n",
       "      <td>12.23</td>\n",
       "      <td>20.34</td>\n",
       "      <td>36.419</td>\n",
       "    </tr>\n",
       "    <tr>\n",
       "      <th>3</th>\n",
       "      <td>03</td>\n",
       "      <td>Bryn Athyn</td>\n",
       "      <td>02/01/20</td>\n",
       "      <td>07/01/19</td>\n",
       "      <td>3.459</td>\n",
       "      <td>0.39</td>\n",
       "      <td>10.876</td>\n",
       "      <td>0</td>\n",
       "      <td>14.725</td>\n",
       "    </tr>\n",
       "    <tr>\n",
       "      <th>4</th>\n",
       "      <td>04</td>\n",
       "      <td>Collegeville</td>\n",
       "      <td>03/01/20</td>\n",
       "      <td>07/01/19</td>\n",
       "      <td>3.459</td>\n",
       "      <td>0.39</td>\n",
       "      <td>5.2</td>\n",
       "      <td>33.72</td>\n",
       "      <td>42.769</td>\n",
       "    </tr>\n",
       "    <tr>\n",
       "      <th>5</th>\n",
       "      <td>05</td>\n",
       "      <td>Conshohocken</td>\n",
       "      <td>02/01/20</td>\n",
       "      <td>07/01/19</td>\n",
       "      <td>3.459</td>\n",
       "      <td>0.39</td>\n",
       "      <td>4.5</td>\n",
       "      <td>22.772</td>\n",
       "      <td>31.121</td>\n",
       "    </tr>\n",
       "  </tbody>\n",
       "</table>\n",
       "</div>"
      ],
      "text/plain": [
       "0 Code  Municipality Municipality Bill Date School Bill Date  \\\n",
       "1   01        Ambler               02/28/20         07/01/19   \n",
       "2   02    Bridgeport               02/28/20         07/01/19   \n",
       "3   03    Bryn Athyn               02/01/20         07/01/19   \n",
       "4   04  Collegeville               03/01/20         07/01/19   \n",
       "5   05  Conshohocken               02/01/20         07/01/19   \n",
       "\n",
       "0 2020  County Millage 2020  MCCC  Millage 2020  Municipality Millage  \\\n",
       "1                3.459                0.39                       7.86   \n",
       "2                3.459                0.39                      12.23   \n",
       "3                3.459                0.39                     10.876   \n",
       "4                3.459                0.39                        5.2   \n",
       "5                3.459                0.39                        4.5   \n",
       "\n",
       "0 2019-2020  School Millage Total Millage  \n",
       "1                     20.59        32.299  \n",
       "2                     20.34        36.419  \n",
       "3                         0        14.725  \n",
       "4                     33.72        42.769  \n",
       "5                    22.772        31.121  "
      ]
     },
     "execution_count": 8,
     "metadata": {},
     "output_type": "execute_result"
    }
   ],
   "source": [
    "base_site = 'https://www.montcopa.org/622/County-Municipality-Millage-Rates'\n",
    "\n",
    "r = requests.get(base_site)\n",
    "r.status_code\n",
    "\n",
    "DF_list = pd.read_html(r.text)\n",
    "\n",
    "MontCoTax_DF=DF_list[0]\n",
    "MontCoTax_DF.columns = MontCoTax_DF.iloc[0]\n",
    "MontCoTax_DF.drop([0], axis=0,inplace=True)\n",
    "MontCoTax_DF.head()"
   ]
  },
  {
   "cell_type": "markdown",
   "metadata": {},
   "source": [
    "#### I'm really only interested in the municipality and total millage."
   ]
  },
  {
   "cell_type": "code",
   "execution_count": 9,
   "metadata": {},
   "outputs": [
    {
     "name": "stderr",
     "output_type": "stream",
     "text": [
      "C:\\Users\\Marylin Huff\\anaconda3\\lib\\site-packages\\ipykernel_launcher.py:3: SettingWithCopyWarning: \n",
      "A value is trying to be set on a copy of a slice from a DataFrame.\n",
      "Try using .loc[row_indexer,col_indexer] = value instead\n",
      "\n",
      "See the caveats in the documentation: https://pandas.pydata.org/pandas-docs/stable/user_guide/indexing.html#returning-a-view-versus-a-copy\n",
      "  This is separate from the ipykernel package so we can avoid doing imports until\n"
     ]
    },
    {
     "data": {
      "text/html": [
       "<div>\n",
       "<style scoped>\n",
       "    .dataframe tbody tr th:only-of-type {\n",
       "        vertical-align: middle;\n",
       "    }\n",
       "\n",
       "    .dataframe tbody tr th {\n",
       "        vertical-align: top;\n",
       "    }\n",
       "\n",
       "    .dataframe thead th {\n",
       "        text-align: right;\n",
       "    }\n",
       "</style>\n",
       "<table border=\"1\" class=\"dataframe\">\n",
       "  <thead>\n",
       "    <tr style=\"text-align: right;\">\n",
       "      <th></th>\n",
       "      <th>MUNICIPALITY</th>\n",
       "      <th>TotalTaxRate</th>\n",
       "    </tr>\n",
       "  </thead>\n",
       "  <tbody>\n",
       "    <tr>\n",
       "      <th>1</th>\n",
       "      <td>AMBLER</td>\n",
       "      <td>32.299</td>\n",
       "    </tr>\n",
       "    <tr>\n",
       "      <th>2</th>\n",
       "      <td>BRIDGEPORT</td>\n",
       "      <td>36.419</td>\n",
       "    </tr>\n",
       "    <tr>\n",
       "      <th>3</th>\n",
       "      <td>BRYN ATHYN</td>\n",
       "      <td>14.725</td>\n",
       "    </tr>\n",
       "    <tr>\n",
       "      <th>4</th>\n",
       "      <td>COLLEGEVILLE</td>\n",
       "      <td>42.769</td>\n",
       "    </tr>\n",
       "    <tr>\n",
       "      <th>5</th>\n",
       "      <td>CONSHOHOCKEN</td>\n",
       "      <td>31.121</td>\n",
       "    </tr>\n",
       "  </tbody>\n",
       "</table>\n",
       "</div>"
      ],
      "text/plain": [
       "   MUNICIPALITY TotalTaxRate\n",
       "1        AMBLER       32.299\n",
       "2    BRIDGEPORT       36.419\n",
       "3    BRYN ATHYN       14.725\n",
       "4  COLLEGEVILLE       42.769\n",
       "5  CONSHOHOCKEN       31.121"
      ]
     },
     "execution_count": 9,
     "metadata": {},
     "output_type": "execute_result"
    }
   ],
   "source": [
    "MontCoTax_DF=MontCoTax_DF[['Municipality','Total Millage']]\n",
    "MontCoTax_DF.columns = ['MUNICIPALITY','TotalTaxRate']\n",
    "MontCoTax_DF['MUNICIPALITY']=MontCoTax_DF['MUNICIPALITY'].str.upper()\n",
    "MontCoTax_DF.head()"
   ]
  },
  {
   "cell_type": "markdown",
   "metadata": {},
   "source": [
    "### 4. Link this information into a single DataFrame"
   ]
  },
  {
   "cell_type": "code",
   "execution_count": 10,
   "metadata": {
    "scrolled": true
   },
   "outputs": [
    {
     "data": {
      "text/html": [
       "<div>\n",
       "<style scoped>\n",
       "    .dataframe tbody tr th:only-of-type {\n",
       "        vertical-align: middle;\n",
       "    }\n",
       "\n",
       "    .dataframe tbody tr th {\n",
       "        vertical-align: top;\n",
       "    }\n",
       "\n",
       "    .dataframe thead th {\n",
       "        text-align: right;\n",
       "    }\n",
       "</style>\n",
       "<table border=\"1\" class=\"dataframe\">\n",
       "  <thead>\n",
       "    <tr style=\"text-align: right;\">\n",
       "      <th></th>\n",
       "      <th>Zip</th>\n",
       "      <th>MUNICIPALITY</th>\n",
       "      <th>TotalTaxRate</th>\n",
       "    </tr>\n",
       "  </thead>\n",
       "  <tbody>\n",
       "    <tr>\n",
       "      <th>0</th>\n",
       "      <td>19063</td>\n",
       "      <td>UPPER PROVIDENCE</td>\n",
       "      <td>32.5267</td>\n",
       "    </tr>\n",
       "    <tr>\n",
       "      <th>1</th>\n",
       "      <td>19064</td>\n",
       "      <td>SPRINGFIELD</td>\n",
       "      <td>42.0002</td>\n",
       "    </tr>\n",
       "    <tr>\n",
       "      <th>2</th>\n",
       "      <td>18041</td>\n",
       "      <td>EAST GREENVILLE</td>\n",
       "      <td>35.3268</td>\n",
       "    </tr>\n",
       "    <tr>\n",
       "      <th>3</th>\n",
       "      <td>18054</td>\n",
       "      <td>GREEN LANE</td>\n",
       "      <td>31.0768</td>\n",
       "    </tr>\n",
       "    <tr>\n",
       "      <th>4</th>\n",
       "      <td>18073</td>\n",
       "      <td>PENNSBURG</td>\n",
       "      <td>36.3018</td>\n",
       "    </tr>\n",
       "  </tbody>\n",
       "</table>\n",
       "</div>"
      ],
      "text/plain": [
       "     Zip      MUNICIPALITY TotalTaxRate\n",
       "0  19063  UPPER PROVIDENCE      32.5267\n",
       "1  19064       SPRINGFIELD      42.0002\n",
       "2  18041   EAST GREENVILLE      35.3268\n",
       "3  18054        GREEN LANE      31.0768\n",
       "4  18073         PENNSBURG      36.3018"
      ]
     },
     "execution_count": 10,
     "metadata": {},
     "output_type": "execute_result"
    }
   ],
   "source": [
    "DelCoMontCoTax_DF=pd.concat([DelCoTax_DF, MontCoTax_DF], axis=0)\n",
    "DelCoMontCo_DF=pd.merge(DelCoMontCo_DF, DelCoMontCoTax_DF, on='MUNICIPALITY')\n",
    "DelCoMontCo_DF.head()"
   ]
  },
  {
   "cell_type": "markdown",
   "metadata": {},
   "source": [
    "#### Use geopy library to get the latitude and longitude values of Philadelphia."
   ]
  },
  {
   "cell_type": "code",
   "execution_count": 11,
   "metadata": {},
   "outputs": [
    {
     "name": "stdout",
     "output_type": "stream",
     "text": [
      "The geograpical coordinate of Philadelphia are 39.9527237, -75.1635262.\n"
     ]
    }
   ],
   "source": [
    "address = 'Philadelphia, PA'\n",
    "\n",
    "geolocator = Nominatim(user_agent=\"philly_explorer\")\n",
    "location = geolocator.geocode(address)\n",
    "latitude = location.latitude\n",
    "longitude = location.longitude\n",
    "print('The geograpical coordinate of Philadelphia are {}, {}.'.format(latitude, longitude))"
   ]
  }
 ],
 "metadata": {
  "kernelspec": {
   "display_name": "Python 3",
   "language": "python",
   "name": "python3"
  },
  "language_info": {
   "codemirror_mode": {
    "name": "ipython",
    "version": 3
   },
   "file_extension": ".py",
   "mimetype": "text/x-python",
   "name": "python",
   "nbconvert_exporter": "python",
   "pygments_lexer": "ipython3",
   "version": "3.7.6"
  }
 },
 "nbformat": 4,
 "nbformat_minor": 4
}
